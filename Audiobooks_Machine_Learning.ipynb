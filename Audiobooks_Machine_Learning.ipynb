{
 "cells": [
  {
   "cell_type": "markdown",
   "metadata": {},
   "source": [
    "## Create the machine learning algorithm\n",
    "\n"
   ]
  },
  {
   "cell_type": "markdown",
   "metadata": {},
   "source": [
    "### Import the relevant libraries"
   ]
  },
  {
   "cell_type": "code",
   "execution_count": 1,
   "metadata": {},
   "outputs": [],
   "source": [
    "import numpy as np\n",
    "import tensorflow as tf"
   ]
  },
  {
   "cell_type": "markdown",
   "metadata": {},
   "source": [
    "### Data"
   ]
  },
  {
   "cell_type": "code",
   "execution_count": 2,
   "metadata": {},
   "outputs": [],
   "source": [
    "# let's create a temporary variable npz, where we will store each of the three Audiobooks datasets\n",
    "npz = np.load('Audiobooks_data_train.npz')\n",
    "\n",
    "# we extract the inputs using the keyword under which we saved them\n",
    "# to ensure that they are all floats, let's also take care of that\n",
    "train_inputs = npz['inputs'].astype(float)\n",
    "# targets must be int because of sparse_categorical_crossentropy (we want to be able to smoothly one-hot encode them)\n",
    "train_targets = npz['targets'].astype(int)\n",
    "\n",
    "# we load the validation data in the temporary variable\n",
    "npz = np.load('Audiobooks_data_validation.npz')\n",
    "# we can load the inputs and the targets in the same line\n",
    "validation_inputs, validation_targets = npz['inputs'].astype(float), npz['targets'].astype(int)\n",
    "\n",
    "# we load the test data in the temporary variable\n",
    "npz = np.load('Audiobooks_data_test.npz')\n",
    "# we create 2 variables that will contain the test inputs and the test targets\n",
    "test_inputs, test_targets = npz['inputs'].astype(float), npz['targets'].astype(int)"
   ]
  },
  {
   "cell_type": "markdown",
   "metadata": {},
   "source": [
    "### Model\n",
    "Outline, optimizers, loss, early stopping and training"
   ]
  },
  {
   "cell_type": "code",
   "execution_count": 3,
   "metadata": {},
   "outputs": [
    {
     "name": "stdout",
     "output_type": "stream",
     "text": [
      "Epoch 1/100\n",
      "36/36 - 1s - 34ms/step - accuracy: 0.7114 - loss: 0.5662 - val_accuracy: 0.7562 - val_loss: 0.4938\n",
      "Epoch 2/100\n",
      "36/36 - 0s - 3ms/step - accuracy: 0.7645 - loss: 0.4643 - val_accuracy: 0.7651 - val_loss: 0.4231\n",
      "Epoch 3/100\n",
      "36/36 - 0s - 3ms/step - accuracy: 0.7865 - loss: 0.4200 - val_accuracy: 0.7875 - val_loss: 0.3924\n",
      "Epoch 4/100\n",
      "36/36 - 0s - 3ms/step - accuracy: 0.7907 - loss: 0.3966 - val_accuracy: 0.7830 - val_loss: 0.3839\n",
      "Epoch 5/100\n",
      "36/36 - 0s - 3ms/step - accuracy: 0.7946 - loss: 0.3853 - val_accuracy: 0.8098 - val_loss: 0.3622\n",
      "Epoch 6/100\n",
      "36/36 - 0s - 3ms/step - accuracy: 0.8022 - loss: 0.3769 - val_accuracy: 0.7987 - val_loss: 0.3611\n",
      "Epoch 7/100\n",
      "36/36 - 0s - 3ms/step - accuracy: 0.8080 - loss: 0.3718 - val_accuracy: 0.8054 - val_loss: 0.3564\n",
      "Epoch 8/100\n",
      "36/36 - 0s - 3ms/step - accuracy: 0.8072 - loss: 0.3668 - val_accuracy: 0.8121 - val_loss: 0.3472\n",
      "Epoch 9/100\n",
      "36/36 - 0s - 3ms/step - accuracy: 0.8055 - loss: 0.3655 - val_accuracy: 0.8188 - val_loss: 0.3450\n",
      "Epoch 10/100\n",
      "36/36 - 0s - 3ms/step - accuracy: 0.8086 - loss: 0.3594 - val_accuracy: 0.8054 - val_loss: 0.3414\n",
      "Epoch 11/100\n",
      "36/36 - 0s - 3ms/step - accuracy: 0.8094 - loss: 0.3588 - val_accuracy: 0.8210 - val_loss: 0.3403\n",
      "Epoch 12/100\n",
      "36/36 - 0s - 3ms/step - accuracy: 0.8159 - loss: 0.3553 - val_accuracy: 0.8121 - val_loss: 0.3427\n",
      "Epoch 13/100\n",
      "36/36 - 0s - 3ms/step - accuracy: 0.8089 - loss: 0.3559 - val_accuracy: 0.8143 - val_loss: 0.3383\n",
      "Epoch 14/100\n",
      "36/36 - 0s - 3ms/step - accuracy: 0.8167 - loss: 0.3512 - val_accuracy: 0.8233 - val_loss: 0.3414\n",
      "Epoch 15/100\n",
      "36/36 - 0s - 3ms/step - accuracy: 0.8122 - loss: 0.3524 - val_accuracy: 0.8098 - val_loss: 0.3374\n",
      "Epoch 16/100\n",
      "36/36 - 0s - 3ms/step - accuracy: 0.8055 - loss: 0.3562 - val_accuracy: 0.8210 - val_loss: 0.3389\n",
      "Epoch 17/100\n",
      "36/36 - 0s - 3ms/step - accuracy: 0.8083 - loss: 0.3544 - val_accuracy: 0.8121 - val_loss: 0.3361\n",
      "Epoch 18/100\n",
      "36/36 - 0s - 3ms/step - accuracy: 0.8086 - loss: 0.3506 - val_accuracy: 0.8076 - val_loss: 0.3451\n",
      "Epoch 19/100\n",
      "36/36 - 0s - 3ms/step - accuracy: 0.8139 - loss: 0.3467 - val_accuracy: 0.8188 - val_loss: 0.3318\n",
      "Epoch 20/100\n",
      "36/36 - 0s - 3ms/step - accuracy: 0.8159 - loss: 0.3455 - val_accuracy: 0.8166 - val_loss: 0.3322\n",
      "Epoch 21/100\n",
      "36/36 - 0s - 3ms/step - accuracy: 0.8150 - loss: 0.3455 - val_accuracy: 0.8166 - val_loss: 0.3355\n"
     ]
    },
    {
     "data": {
      "text/plain": [
       "<keras.src.callbacks.history.History at 0x1b591518200>"
      ]
     },
     "execution_count": 3,
     "metadata": {},
     "output_type": "execute_result"
    }
   ],
   "source": [
    "# Set the input and output sizes\n",
    "input_size = 10\n",
    "output_size = 2\n",
    "# Use same hidden layer size for both hidden layers. Not a necessity.\n",
    "hidden_layer_size = 50\n",
    "    \n",
    "# define how the model will look like\n",
    "model = tf.keras.Sequential([\n",
    "    # tf.keras.layers.Dense is basically implementing: output = activation(dot(input, weight) + bias)\n",
    "    # it takes several arguments, but the most important ones for us are the hidden_layer_size and the activation function\n",
    "    tf.keras.layers.Dense(hidden_layer_size, activation='relu'), # 1st hidden layer\n",
    "    tf.keras.layers.Dense(hidden_layer_size, activation='relu'), # 2nd hidden layer\n",
    "    # the final layer is no different, we just make sure to activate it with softmax\n",
    "    tf.keras.layers.Dense(output_size, activation='softmax') # output layer\n",
    "])\n",
    "\n",
    "\n",
    "### Choose the optimizer and the loss function\n",
    "\n",
    "# we define the optimizer we'd like to use, \n",
    "# the loss function, \n",
    "# and the metrics we are interested in obtaining at each iteration\n",
    "model.compile(optimizer='adam', loss='sparse_categorical_crossentropy', metrics=['accuracy'])\n",
    "\n",
    "### Training\n",
    "# That's where we train the model we have built.\n",
    "\n",
    "# set the batch size\n",
    "batch_size = 100\n",
    "\n",
    "# set a maximum number of training epochs\n",
    "max_epochs = 100\n",
    "\n",
    "# set an early stopping mechanism\n",
    "# let's set patience=2, to be a bit tolerant against random validation loss increases\n",
    "early_stopping = tf.keras.callbacks.EarlyStopping(patience=2)\n",
    "\n",
    "# fit the model\n",
    "# note that this time the train, validation and test data are not iterable\n",
    "model.fit(train_inputs, # train inputs\n",
    "          train_targets, # train targets\n",
    "          batch_size=batch_size, # batch size\n",
    "          epochs=max_epochs, \n",
    "          callbacks=[early_stopping], # early stopping\n",
    "          validation_data=(validation_inputs, validation_targets), # validation data\n",
    "          verbose = 2 # making sure we get enough information about the training process\n",
    "          )  "
   ]
  },
  {
   "cell_type": "code",
   "execution_count": 4,
   "metadata": {},
   "outputs": [
    {
     "name": "stdout",
     "output_type": "stream",
     "text": [
      "\u001b[1m14/14\u001b[0m \u001b[32m━━━━━━━━━━━━━━━━━━━━\u001b[0m\u001b[37m\u001b[0m \u001b[1m0s\u001b[0m 5ms/step - accuracy: 0.8169 - loss: 0.3660 \n"
     ]
    }
   ],
   "source": [
    "test_loss, test_accuracy = model.evaluate(test_inputs, test_targets)"
   ]
  },
  {
   "cell_type": "code",
   "execution_count": 5,
   "metadata": {},
   "outputs": [
    {
     "name": "stdout",
     "output_type": "stream",
     "text": [
      "\n",
      "Test loss: 0.36. Test accuracy: 81.70%\n"
     ]
    }
   ],
   "source": [
    "print('\\nTest loss: {0:.2f}. Test accuracy: {1:.2f}%'.format(test_loss, test_accuracy*100.))"
   ]
  }
 ],
 "metadata": {
  "kernelspec": {
   "display_name": "Python 3 (ipykernel)",
   "language": "python",
   "name": "python3"
  },
  "language_info": {
   "codemirror_mode": {
    "name": "ipython",
    "version": 3
   },
   "file_extension": ".py",
   "mimetype": "text/x-python",
   "name": "python",
   "nbconvert_exporter": "python",
   "pygments_lexer": "ipython3",
   "version": "3.12.7"
  }
 },
 "nbformat": 4,
 "nbformat_minor": 4
}
